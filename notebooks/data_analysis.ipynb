{
 "cells": [
  {
   "cell_type": "markdown",
   "id": "39a6fe66-aa91-43e8-a5e1-d6a587e115cc",
   "metadata": {
    "tags": []
   },
   "source": [
    "## Prepare Data"
   ]
  },
  {
   "cell_type": "code",
   "execution_count": 1,
   "id": "3060e5c1-c101-4b3a-9abb-ffe1ecbdb4da",
   "metadata": {
    "tags": []
   },
   "outputs": [],
   "source": [
    "import os\n",
    "import glob \n",
    "\n",
    "import pandas as pd\n",
    "import numpy as np\n",
    "import matplotlib.pyplot as plt\n",
    "\n",
    "from sklearn import datasets, linear_model\n",
    "from sklearn.metrics import mean_squared_error, r2_score\n",
    "\n",
    "from sklearn.model_selection import train_test_split\n",
    "from sklearn.ensemble import RandomForestRegressor\n",
    "from sklearn.model_selection import GridSearchCV"
   ]
  },
  {
   "cell_type": "code",
   "execution_count": 2,
   "id": "d12750f2-1c7d-4641-93c2-beaebba78e10",
   "metadata": {
    "tags": []
   },
   "outputs": [],
   "source": [
    "df = pd.read_parquet(\"../metrics/epoch_metrics\")"
   ]
  },
  {
   "cell_type": "code",
   "execution_count": 3,
   "id": "f0897649-6fd6-4f45-ac1a-089d8b067ec1",
   "metadata": {
    "tags": []
   },
   "outputs": [],
   "source": [
    "grouped = df.groupby(['dataset_name', 'strat_name', 'num_clients', 'batch_size', 'theta', 'nn_name'])"
   ]
  },
  {
   "cell_type": "code",
   "execution_count": 4,
   "id": "1ae1156c-a688-4a32-a929-3a5ec2fc4b45",
   "metadata": {
    "tags": []
   },
   "outputs": [],
   "source": [
    "df['total_time'] = grouped['epoch_duration_sec'].cumsum()"
   ]
  },
  {
   "cell_type": "code",
   "execution_count": 5,
   "id": "e60515af-1536-4851-b5a3-552fc652c757",
   "metadata": {
    "tags": []
   },
   "outputs": [],
   "source": [
    "def dataset_size(ds_name):\n",
    "    if ds_name == 'CIFAR10':\n",
    "        return 50_000\n",
    "    if ds_name == 'MNIST':\n",
    "        return 60_000\n",
    "    return None"
   ]
  },
  {
   "cell_type": "code",
   "execution_count": 6,
   "id": "821e82bd-9b9c-4bc4-b4b7-29e61e3bea86",
   "metadata": {
    "tags": []
   },
   "outputs": [],
   "source": [
    "df['ds_samples'] = df['dataset_name'].apply(dataset_size)"
   ]
  },
  {
   "cell_type": "code",
   "execution_count": 7,
   "id": "387b5e0e-f354-430c-ab1c-3651b7c7787b",
   "metadata": {
    "tags": []
   },
   "outputs": [],
   "source": [
    "def model_num_weights(nn_name):\n",
    "    if nn_name == 'LeNet-5':\n",
    "        return 61_706\n",
    "    if nn_name == 'AdvancedCNN':\n",
    "        return 2_592_202\n",
    "    if nn_name == 'DenseNet121':\n",
    "        return 6_964_106\n",
    "    if nn_name == 'DenseNet201':\n",
    "        return 18_112_138\n",
    "    return None"
   ]
  },
  {
   "cell_type": "code",
   "execution_count": 8,
   "id": "b842ef95-8c8e-4c92-abc4-5f6a39fc60f1",
   "metadata": {
    "tags": []
   },
   "outputs": [],
   "source": [
    "df['num_weights'] = df['nn_name'].apply(model_num_weights)"
   ]
  },
  {
   "cell_type": "code",
   "execution_count": 9,
   "id": "492101eb-8652-4f33-bb03-969644f39707",
   "metadata": {
    "tags": []
   },
   "outputs": [],
   "source": [
    "def local_state_size(strat_name):\n",
    "    if strat_name == 'naive':\n",
    "        return 1\n",
    "    if strat_name == 'linear':\n",
    "        return 2\n",
    "    if strat_name == 'sketch':\n",
    "        return 1000\n",
    "    return None"
   ]
  },
  {
   "cell_type": "code",
   "execution_count": 10,
   "id": "aea6f139-fd10-42eb-891a-bf441eb4977e",
   "metadata": {
    "tags": []
   },
   "outputs": [],
   "source": [
    "df['local_state_size'] = df['strat_name'].apply(local_state_size)"
   ]
  },
  {
   "cell_type": "code",
   "execution_count": 11,
   "id": "694c467a-b9be-44ad-86d8-bea2f62db4f9",
   "metadata": {
    "tags": []
   },
   "outputs": [],
   "source": [
    "def sample_size(ds_name):\n",
    "    if ds_name == 'CIFAR10':\n",
    "        return 32 * 32 * 3\n",
    "    if ds_name == 'MNIST':\n",
    "        return 28 * 28\n",
    "    return None"
   ]
  },
  {
   "cell_type": "code",
   "execution_count": 12,
   "id": "ebbb5fe5-7cbc-41d8-841c-0f2c041c11fa",
   "metadata": {
    "tags": []
   },
   "outputs": [],
   "source": [
    "df['sample_size'] = df['dataset_name'].apply(sample_size)"
   ]
  },
  {
   "cell_type": "code",
   "execution_count": 13,
   "id": "5b40bf7b-6866-473f-aa7f-43e3d73d1697",
   "metadata": {
    "tags": []
   },
   "outputs": [],
   "source": [
    "def local_state_computation_cost(row):\n",
    "    if row['strat_name'] == 'naive':\n",
    "        return row['num_weights']  # O(d)\n",
    "    if row['strat_name'] == 'linear':\n",
    "        return row['num_weights']  #  O(2*d)\n",
    "    if row['strat_name'] == 'sketch':\n",
    "        return row['num_weights'] * 5 * 250  #  O(width * d)\n",
    "    return None"
   ]
  },
  {
   "cell_type": "code",
   "execution_count": 14,
   "id": "15cab9d5-b3c2-4b69-908b-7cb91ea6903f",
   "metadata": {
    "tags": []
   },
   "outputs": [],
   "source": [
    "df['local_state_computation_cost'] = df.apply(local_state_computation_cost, axis=1)"
   ]
  },
  {
   "cell_type": "code",
   "execution_count": 19,
   "id": "403b3b7f-7eb9-4958-acab-8ae564ca8ee9",
   "metadata": {
    "tags": []
   },
   "outputs": [],
   "source": [
    "def monitoring_size(row):\n",
    "    if row['strat_name'] == 'naive':\n",
    "        return 1\n",
    "    if row['strat_name'] == 'linear':\n",
    "        return 2\n",
    "    if row['strat_name'] == 'sketch':\n",
    "        return 5 * 250\n",
    "    return None"
   ]
  },
  {
   "cell_type": "code",
   "execution_count": 20,
   "id": "d2015fdd-e433-4f9c-976f-39bae141d079",
   "metadata": {
    "tags": []
   },
   "outputs": [],
   "source": [
    "df['monitoring_size'] = df.apply(monitoring_size, axis=1)"
   ]
  },
  {
   "cell_type": "markdown",
   "id": "b9c3d77f-0b96-4812-867c-3caa75a7cafa",
   "metadata": {
    "tags": []
   },
   "source": [
    "## Regression"
   ]
  },
  {
   "cell_type": "code",
   "execution_count": 274,
   "id": "2f8a3729-6516-4d3d-b173-984236430d54",
   "metadata": {
    "tags": []
   },
   "outputs": [],
   "source": [
    "def linear_regression(data_X_df, data_y_df):    \n",
    "    # Split the data into training and testing sets\n",
    "    X_train, X_test, y_train, y_test = train_test_split(data_X_df, data_y_df, test_size=0.1)\n",
    "\n",
    "    regr_model = linear_model.LinearRegression(positive=True, fit_intercept=False)\n",
    "\n",
    "    regr_model.fit(X_train, y_train)\n",
    "\n",
    "    y_pred = regr_model.predict(X_test)\n",
    "\n",
    "    # Evaluate the model\n",
    "    print(\"Linear Regression\")\n",
    "    print(f\"Coefficients: {regr_model.coef_}\\n\")\n",
    "    print(\"Linear Regression\")\n",
    "    print(f\"RMS error: {np.sqrt(mean_squared_error(y_test, y_pred)):.2f}\")\n",
    "    print(f\"Coefficient of determination: {r2_score(y_test, y_pred):.2f}\")\n",
    "    \n",
    "    return regr_model"
   ]
  },
  {
   "cell_type": "markdown",
   "id": "37606aab-ffd2-45a9-be78-d2664ffcec61",
   "metadata": {
    "tags": []
   },
   "source": [
    "## NaiveFDA\n"
   ]
  },
  {
   "cell_type": "code",
   "execution_count": 275,
   "id": "896eabea-559f-4291-b9fa-02db2fa9ed2d",
   "metadata": {
    "tags": []
   },
   "outputs": [],
   "source": [
    "df_strat = df[df.strat_name == 'naive']\n",
    "\n",
    "data_X_df = pd.DataFrame(\n",
    "    {\n",
    "        'train_computation_cost': df_strat['total_fda_steps'] * df_strat['num_weights'] * df_strat['batch_size'],\n",
    "        'dataset_computation_cost': df_strat['total_fda_steps'] * df_strat['sample_size'],\n",
    "        #'local_state_computation_cost': df_strat['local_state_computation_cost'],\n",
    "        \n",
    "        'sync_communication_cost': df_strat['total_rounds'] * df_strat['num_weights'] * np.log2(df_strat['num_clients']),\n",
    "        #'monitor_communication_cost': df_strat['total_fda_steps'] * df_strat['monitoring_size'] * np.ceil(np.log2(df_strat['num_clients']))\n",
    "    }\n",
    ")\n",
    "\n",
    "data_y_df = df_strat['total_time']"
   ]
  },
  {
   "cell_type": "code",
   "execution_count": 276,
   "id": "397a2e37-9d62-470f-9a37-1a9ee70fa048",
   "metadata": {
    "tags": []
   },
   "outputs": [
    {
     "name": "stdout",
     "output_type": "stream",
     "text": [
      "Linear Regression\n",
      "Coefficients: [1.36949766e-09 1.54921969e-04 1.55029912e-07]\n",
      "\n",
      "Linear Regression\n",
      "RMS error: 400.16\n",
      "Coefficient of determination: 1.00\n"
     ]
    }
   ],
   "source": [
    "regr_model = linear_regression(data_X_df, data_y_df)"
   ]
  },
  {
   "cell_type": "markdown",
   "id": "7c5e2d93-286a-48f1-92cb-dcb3eca31958",
   "metadata": {
    "tags": []
   },
   "source": [
    "## LinearFDA"
   ]
  },
  {
   "cell_type": "code",
   "execution_count": 279,
   "id": "d1b31f87-246b-4cf7-ab10-120b70ac73ec",
   "metadata": {
    "tags": []
   },
   "outputs": [],
   "source": [
    "df_strat = df[df.strat_name == 'linear']\n",
    "\n",
    "data_X_df = pd.DataFrame(\n",
    "    {\n",
    "        'train_computation_cost': df_strat['total_fda_steps'] * df_strat['num_weights'] * df_strat['batch_size'],\n",
    "        'dataset_computation_cost': df_strat['total_fda_steps'] * df_strat['sample_size'],\n",
    "        #'local_state_computation_cost': df_strat['local_state_computation_cost'],\n",
    "        \n",
    "        'sync_communication_cost': df_strat['total_rounds'] * df_strat['num_weights'] * np.log2(df_strat['num_clients']),\n",
    "        #'monitor_communication_cost': df_strat['total_fda_steps'] * df_strat['monitoring_size'] * np.ceil(np.log2(df_strat['num_clients']))\n",
    "    }\n",
    ")\n",
    "\n",
    "data_y_df = df_strat['total_time']"
   ]
  },
  {
   "cell_type": "code",
   "execution_count": 280,
   "id": "35df841a-c9f3-46e9-8a2e-e905b70db6e6",
   "metadata": {
    "tags": []
   },
   "outputs": [
    {
     "name": "stdout",
     "output_type": "stream",
     "text": [
      "Linear Regression\n",
      "Coefficients: [1.35193922e-09 1.55074384e-04 1.76021418e-07]\n",
      "\n",
      "Linear Regression\n",
      "RMS error: 399.29\n",
      "Coefficient of determination: 1.00\n"
     ]
    }
   ],
   "source": [
    "regr_model = linear_regression(data_X_df, data_y_df)"
   ]
  },
  {
   "cell_type": "markdown",
   "id": "46bfb4b8-c58c-4e3c-90fd-264f1f62001e",
   "metadata": {
    "tags": []
   },
   "source": [
    "## SketchFDA"
   ]
  },
  {
   "cell_type": "code",
   "execution_count": 281,
   "id": "c1276628-e7db-45a6-87f6-d30c3817a67f",
   "metadata": {
    "tags": []
   },
   "outputs": [],
   "source": [
    "df_strat = df[df.strat_name == 'sketch']\n",
    "\n",
    "data_X_df = pd.DataFrame(\n",
    "    {\n",
    "        'train_computation_cost': df_strat['total_fda_steps'] * df_strat['num_weights'] * df_strat['batch_size'],\n",
    "        'dataset_computation_cost': df_strat['total_fda_steps'] * df_strat['sample_size'],\n",
    "        #'local_state_computation_cost': df_strat['local_state_computation_cost'],\n",
    "        \n",
    "        'sync_communication_cost': df_strat['total_rounds'] * df_strat['num_weights'] * np.log2(df_strat['num_clients']),\n",
    "        #'monitor_communication_cost': df_strat['total_fda_steps'] * df_strat['monitoring_size'] * np.ceil(np.log2(df_strat['num_clients']))\n",
    "    }\n",
    ")\n",
    "\n",
    "data_y_df = df_strat['total_time']"
   ]
  },
  {
   "cell_type": "code",
   "execution_count": 282,
   "id": "e9e40186-5594-473a-9819-6512f823af58",
   "metadata": {
    "tags": []
   },
   "outputs": [
    {
     "name": "stdout",
     "output_type": "stream",
     "text": [
      "Linear Regression\n",
      "Coefficients: [1.63786109e-09 1.74186295e-04 1.54022511e-07]\n",
      "\n",
      "Linear Regression\n",
      "RMS error: 461.61\n",
      "Coefficient of determination: 1.00\n"
     ]
    }
   ],
   "source": [
    "regr_model = linear_regression(data_X_df, data_y_df)"
   ]
  },
  {
   "cell_type": "markdown",
   "id": "d253d0b2-5039-4dd4-8dac-91d7393d70a0",
   "metadata": {},
   "source": [
    "## All FDA Strategies together"
   ]
  },
  {
   "cell_type": "code",
   "execution_count": 342,
   "id": "691718ad-991a-41a8-8de4-adc411fe7ec2",
   "metadata": {
    "tags": []
   },
   "outputs": [],
   "source": [
    "data_X_df = pd.DataFrame(\n",
    "    {\n",
    "        'train_computation_cost': df['total_fda_steps'] * df['num_weights'] * df['batch_size'],\n",
    "        'dataset_computation_cost': df['total_fda_steps'] * df['sample_size'],\n",
    "        'local_state_computation_cost': df['local_state_computation_cost'],\n",
    "        \n",
    "        'sync_communication_cost': df['total_rounds'] * df['num_weights'] * np.log2(df['num_clients']),\n",
    "        'monitor_communication_cost': df['total_fda_steps'] * df['monitoring_size'] * np.log2(df['num_clients'])\n",
    "    }\n",
    ")\n",
    "\n",
    "data_y_df = df['total_time']"
   ]
  },
  {
   "cell_type": "code",
   "execution_count": 343,
   "id": "6f105429-ea0e-4c00-97dc-9d62409dafc9",
   "metadata": {
    "tags": []
   },
   "outputs": [
    {
     "name": "stdout",
     "output_type": "stream",
     "text": [
      "Linear Regression\n",
      "Coefficients: [1.49941354e-09 1.54409442e-04 2.37021686e-08 7.12587645e-08\n",
      " 2.03467380e-05]\n",
      "\n",
      "Linear Regression\n",
      "RMS error: 518.55\n",
      "Coefficient of determination: 0.99\n"
     ]
    }
   ],
   "source": [
    "regr_model = linear_regression(data_X_df, data_y_df)"
   ]
  },
  {
   "cell_type": "code",
   "execution_count": null,
   "id": "11b5b0de-2d7e-4e48-957c-d9b0ebf4cf9d",
   "metadata": {},
   "outputs": [],
   "source": []
  },
  {
   "cell_type": "code",
   "execution_count": null,
   "id": "f9b83f25-6702-42d4-81db-e30fda88754f",
   "metadata": {},
   "outputs": [],
   "source": []
  },
  {
   "cell_type": "code",
   "execution_count": 344,
   "id": "94e46843-3174-4b1a-9c34-8192ef0154b5",
   "metadata": {
    "tags": []
   },
   "outputs": [],
   "source": [
    "import pickle"
   ]
  },
  {
   "cell_type": "code",
   "execution_count": 345,
   "id": "de9de402-1a0c-46e2-bd39-80fa68ae5a26",
   "metadata": {
    "tags": []
   },
   "outputs": [],
   "source": [
    "with open('regression_model.pkl','wb') as f:\n",
    "    pickle.dump(regr_model, f)"
   ]
  },
  {
   "cell_type": "code",
   "execution_count": null,
   "id": "d40fd9e0-991d-4ac8-907a-4d7d80932992",
   "metadata": {},
   "outputs": [],
   "source": []
  }
 ],
 "metadata": {
  "kernelspec": {
   "display_name": "Python [conda env:data-analysis]",
   "language": "python",
   "name": "conda-env-data-analysis-py"
  },
  "language_info": {
   "codemirror_mode": {
    "name": "ipython",
    "version": 3
   },
   "file_extension": ".py",
   "mimetype": "text/x-python",
   "name": "python",
   "nbconvert_exporter": "python",
   "pygments_lexer": "ipython3",
   "version": "3.11.4"
  }
 },
 "nbformat": 4,
 "nbformat_minor": 5
}
