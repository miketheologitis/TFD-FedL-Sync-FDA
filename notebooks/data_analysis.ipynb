{
 "cells": [
  {
   "cell_type": "markdown",
   "id": "39a6fe66-aa91-43e8-a5e1-d6a587e115cc",
   "metadata": {
    "tags": []
   },
   "source": [
    "## Prepare Data"
   ]
  },
  {
   "cell_type": "code",
   "execution_count": 1,
   "id": "3060e5c1-c101-4b3a-9abb-ffe1ecbdb4da",
   "metadata": {
    "tags": []
   },
   "outputs": [],
   "source": [
    "import os\n",
    "import glob \n",
    "\n",
    "import pandas as pd\n",
    "import numpy as np\n",
    "import matplotlib.pyplot as plt\n",
    "\n",
    "from sklearn import datasets, linear_model\n",
    "from sklearn.metrics import mean_squared_error, r2_score\n",
    "\n",
    "from sklearn.model_selection import train_test_split\n",
    "from sklearn.ensemble import RandomForestRegressor\n",
    "from sklearn.model_selection import GridSearchCV"
   ]
  },
  {
   "cell_type": "code",
   "execution_count": 2,
   "id": "d12750f2-1c7d-4641-93c2-beaebba78e10",
   "metadata": {
    "tags": []
   },
   "outputs": [],
   "source": [
    "df = pd.read_parquet(\"../metrics/epoch_metrics\")"
   ]
  },
  {
   "cell_type": "code",
   "execution_count": 3,
   "id": "f0897649-6fd6-4f45-ac1a-089d8b067ec1",
   "metadata": {
    "tags": []
   },
   "outputs": [],
   "source": [
    "grouped = df.groupby(['dataset_name', 'strat_name', 'num_clients', 'batch_size', 'theta', 'nn_name'])"
   ]
  },
  {
   "cell_type": "code",
   "execution_count": 4,
   "id": "1ae1156c-a688-4a32-a929-3a5ec2fc4b45",
   "metadata": {
    "tags": []
   },
   "outputs": [],
   "source": [
    "df['total_time'] = grouped['epoch_duration_sec'].cumsum()"
   ]
  },
  {
   "cell_type": "code",
   "execution_count": 5,
   "id": "e60515af-1536-4851-b5a3-552fc652c757",
   "metadata": {
    "tags": []
   },
   "outputs": [],
   "source": [
    "def dataset_size(ds_name):\n",
    "    if ds_name == 'CIFAR10':\n",
    "        return 50_000\n",
    "    if ds_name == 'MNIST':\n",
    "        return 60_000\n",
    "    return None"
   ]
  },
  {
   "cell_type": "code",
   "execution_count": 6,
   "id": "821e82bd-9b9c-4bc4-b4b7-29e61e3bea86",
   "metadata": {
    "tags": []
   },
   "outputs": [],
   "source": [
    "df['ds_samples'] = df['dataset_name'].apply(dataset_size)"
   ]
  },
  {
   "cell_type": "code",
   "execution_count": 7,
   "id": "387b5e0e-f354-430c-ab1c-3651b7c7787b",
   "metadata": {
    "tags": []
   },
   "outputs": [],
   "source": [
    "def model_num_weights(nn_name):\n",
    "    if nn_name == 'LeNet-5':\n",
    "        return 61_706\n",
    "    if nn_name == 'AdvancedCNN':\n",
    "        return 2_592_202\n",
    "    if nn_name == 'DenseNet121':\n",
    "        return 6_964_106\n",
    "    if nn_name == 'DenseNet201':\n",
    "        return 18_112_138\n",
    "    return None"
   ]
  },
  {
   "cell_type": "code",
   "execution_count": 8,
   "id": "b842ef95-8c8e-4c92-abc4-5f6a39fc60f1",
   "metadata": {
    "tags": []
   },
   "outputs": [],
   "source": [
    "df['num_weights'] = df['nn_name'].apply(model_num_weights)"
   ]
  },
  {
   "cell_type": "code",
   "execution_count": 9,
   "id": "492101eb-8652-4f33-bb03-969644f39707",
   "metadata": {
    "tags": []
   },
   "outputs": [],
   "source": [
    "def local_state_size(strat_name):\n",
    "    if strat_name == 'naive':\n",
    "        return 1\n",
    "    if strat_name == 'linear':\n",
    "        return 2\n",
    "    if strat_name == 'sketch':\n",
    "        return 1000\n",
    "    return None"
   ]
  },
  {
   "cell_type": "code",
   "execution_count": 10,
   "id": "aea6f139-fd10-42eb-891a-bf441eb4977e",
   "metadata": {
    "tags": []
   },
   "outputs": [],
   "source": [
    "df['local_state_size'] = df['strat_name'].apply(local_state_size)"
   ]
  },
  {
   "cell_type": "code",
   "execution_count": 11,
   "id": "694c467a-b9be-44ad-86d8-bea2f62db4f9",
   "metadata": {
    "tags": []
   },
   "outputs": [],
   "source": [
    "def sample_size(ds_name):\n",
    "    if ds_name == 'CIFAR10':\n",
    "        return 32 * 32 * 3\n",
    "    if ds_name == 'MNIST':\n",
    "        return 28 * 28\n",
    "    return None"
   ]
  },
  {
   "cell_type": "code",
   "execution_count": 12,
   "id": "ebbb5fe5-7cbc-41d8-841c-0f2c041c11fa",
   "metadata": {
    "tags": []
   },
   "outputs": [],
   "source": [
    "df['sample_size'] = df['dataset_name'].apply(sample_size)"
   ]
  },
  {
   "cell_type": "code",
   "execution_count": 13,
   "id": "5b40bf7b-6866-473f-aa7f-43e3d73d1697",
   "metadata": {
    "tags": []
   },
   "outputs": [],
   "source": [
    "def local_state_computation_cost(row):\n",
    "    if row['strat_name'] == 'naive':\n",
    "        return row['num_weights']  # O(d)\n",
    "    if row['strat_name'] == 'linear':\n",
    "        return row['num_weights']  #  O(2*d)\n",
    "    if row['strat_name'] == 'sketch':\n",
    "        return row['num_weights'] * 5 * 250  #  O(width * d)\n",
    "    return None"
   ]
  },
  {
   "cell_type": "code",
   "execution_count": 14,
   "id": "15cab9d5-b3c2-4b69-908b-7cb91ea6903f",
   "metadata": {
    "tags": []
   },
   "outputs": [],
   "source": [
    "df['local_state_computation_cost'] = df.apply(local_state_computation_cost, axis=1)"
   ]
  },
  {
   "cell_type": "code",
   "execution_count": 15,
   "id": "403b3b7f-7eb9-4958-acab-8ae564ca8ee9",
   "metadata": {
    "tags": []
   },
   "outputs": [],
   "source": [
    "def monitoring_size(row):\n",
    "    if row['strat_name'] == 'naive':\n",
    "        return 1\n",
    "    if row['strat_name'] == 'linear':\n",
    "        return 2\n",
    "    if row['strat_name'] == 'sketch':\n",
    "        return 5 * 250\n",
    "    return None"
   ]
  },
  {
   "cell_type": "code",
   "execution_count": 16,
   "id": "d2015fdd-e433-4f9c-976f-39bae141d079",
   "metadata": {
    "tags": []
   },
   "outputs": [],
   "source": [
    "df['monitoring_size'] = df.apply(monitoring_size, axis=1)"
   ]
  },
  {
   "cell_type": "markdown",
   "id": "b9c3d77f-0b96-4812-867c-3caa75a7cafa",
   "metadata": {
    "tags": []
   },
   "source": [
    "## Regression"
   ]
  },
  {
   "cell_type": "code",
   "execution_count": 17,
   "id": "2f8a3729-6516-4d3d-b173-984236430d54",
   "metadata": {
    "tags": []
   },
   "outputs": [],
   "source": [
    "def linear_regression(data_X_df, data_y_df):    \n",
    "    # Split the data into training and testing sets\n",
    "    X_train, X_test, y_train, y_test = train_test_split(data_X_df, data_y_df, test_size=0.1)\n",
    "\n",
    "    regr_model = linear_model.LinearRegression(positive=True, fit_intercept=False)\n",
    "\n",
    "    regr_model.fit(X_train, y_train)\n",
    "\n",
    "    y_pred = regr_model.predict(X_test)\n",
    "\n",
    "    # Evaluate the model\n",
    "    print(\"Linear Regression\")\n",
    "    print(f\"Coefficients: {regr_model.coef_}\\n\")\n",
    "    print(\"Linear Regression\")\n",
    "    print(f\"RMS error: {np.sqrt(mean_squared_error(y_test, y_pred)):.2f}\")\n",
    "    print(f\"Coefficient of determination: {r2_score(y_test, y_pred):.2f}\")\n",
    "    \n",
    "    return regr_model"
   ]
  },
  {
   "cell_type": "markdown",
   "id": "37606aab-ffd2-45a9-be78-d2664ffcec61",
   "metadata": {
    "tags": []
   },
   "source": [
    "## NaiveFDA\n"
   ]
  },
  {
   "cell_type": "code",
   "execution_count": 28,
   "id": "896eabea-559f-4291-b9fa-02db2fa9ed2d",
   "metadata": {
    "tags": []
   },
   "outputs": [],
   "source": [
    "df_strat = df[df.strat_name == 'naive']\n",
    "\n",
    "data_X_df = pd.DataFrame(\n",
    "    {\n",
    "        'train_computation_cost': df_strat['total_fda_steps'] * df_strat['num_weights'] * df_strat['batch_size'],\n",
    "        'dataset_computation_cost': df_strat['total_fda_steps'] * df_strat['sample_size'],\n",
    "        #'local_state_computation_cost': df_strat['local_state_computation_cost'],\n",
    "        \n",
    "        'sync_communication_cost': df_strat['total_rounds'] * df_strat['num_weights'] * np.log2(df_strat['num_clients']),\n",
    "        #'monitor_communication_cost': df_strat['total_fda_steps'] * df_strat['monitoring_size'] * np.ceil(np.log2(df_strat['num_clients']))\n",
    "    }\n",
    ")\n",
    "\n",
    "data_y_df = df_strat['total_time']"
   ]
  },
  {
   "cell_type": "code",
   "execution_count": 29,
   "id": "397a2e37-9d62-470f-9a37-1a9ee70fa048",
   "metadata": {
    "tags": []
   },
   "outputs": [
    {
     "name": "stdout",
     "output_type": "stream",
     "text": [
      "Linear Regression\n",
      "Coefficients: [1.35921543e-09 1.55093648e-04 1.71254209e-07]\n",
      "\n",
      "Linear Regression\n",
      "RMS error: 395.47\n",
      "Coefficient of determination: 1.00\n"
     ]
    }
   ],
   "source": [
    "regr_model = linear_regression(data_X_df, data_y_df)"
   ]
  },
  {
   "cell_type": "markdown",
   "id": "7c5e2d93-286a-48f1-92cb-dcb3eca31958",
   "metadata": {
    "tags": []
   },
   "source": [
    "## LinearFDA"
   ]
  },
  {
   "cell_type": "code",
   "execution_count": 32,
   "id": "d1b31f87-246b-4cf7-ab10-120b70ac73ec",
   "metadata": {
    "tags": []
   },
   "outputs": [],
   "source": [
    "df_strat = df[df.strat_name == 'linear']\n",
    "\n",
    "data_X_df = pd.DataFrame(\n",
    "    {\n",
    "        'train_computation_cost': df_strat['total_fda_steps'] * df_strat['num_weights'] * df_strat['batch_size'],\n",
    "        'dataset_computation_cost': df_strat['total_fda_steps'] * df_strat['sample_size'],\n",
    "        #'local_state_computation_cost': df_strat['local_state_computation_cost'],\n",
    "        \n",
    "        'sync_communication_cost': df_strat['total_rounds'] * df_strat['num_weights'] * np.log2(df_strat['num_clients']),\n",
    "        #'monitor_communication_cost': df_strat['total_fda_steps'] * df_strat['monitoring_size'] * np.ceil(np.log2(df_strat['num_clients']))\n",
    "    }\n",
    ")\n",
    "\n",
    "data_y_df = df_strat['total_time']"
   ]
  },
  {
   "cell_type": "code",
   "execution_count": 33,
   "id": "35df841a-c9f3-46e9-8a2e-e905b70db6e6",
   "metadata": {
    "tags": []
   },
   "outputs": [
    {
     "name": "stdout",
     "output_type": "stream",
     "text": [
      "Linear Regression\n",
      "Coefficients: [1.33928903e-09 1.55690658e-04 1.90845646e-07]\n",
      "\n",
      "Linear Regression\n",
      "RMS error: 420.76\n",
      "Coefficient of determination: 1.00\n"
     ]
    }
   ],
   "source": [
    "regr_model = linear_regression(data_X_df, data_y_df)"
   ]
  },
  {
   "cell_type": "markdown",
   "id": "46bfb4b8-c58c-4e3c-90fd-264f1f62001e",
   "metadata": {
    "tags": []
   },
   "source": [
    "## SketchFDA"
   ]
  },
  {
   "cell_type": "code",
   "execution_count": 34,
   "id": "c1276628-e7db-45a6-87f6-d30c3817a67f",
   "metadata": {
    "tags": []
   },
   "outputs": [],
   "source": [
    "df_strat = df[df.strat_name == 'sketch']\n",
    "\n",
    "data_X_df = pd.DataFrame(\n",
    "    {\n",
    "        'train_computation_cost': df_strat['total_fda_steps'] * df_strat['num_weights'] * df_strat['batch_size'],\n",
    "        'dataset_computation_cost': df_strat['total_fda_steps'] * df_strat['sample_size'],\n",
    "        #'local_state_computation_cost': df_strat['local_state_computation_cost'],\n",
    "        \n",
    "        'sync_communication_cost': df_strat['total_rounds'] * df_strat['num_weights'] * np.log2(df_strat['num_clients']),\n",
    "        #'monitor_communication_cost': df_strat['total_fda_steps'] * df_strat['monitoring_size'] * np.ceil(np.log2(df_strat['num_clients']))\n",
    "    }\n",
    ")\n",
    "\n",
    "data_y_df = df_strat['total_time']"
   ]
  },
  {
   "cell_type": "code",
   "execution_count": 35,
   "id": "e9e40186-5594-473a-9819-6512f823af58",
   "metadata": {
    "tags": []
   },
   "outputs": [
    {
     "name": "stdout",
     "output_type": "stream",
     "text": [
      "Linear Regression\n",
      "Coefficients: [1.63265350e-09 1.75293755e-04 1.57352800e-07]\n",
      "\n",
      "Linear Regression\n",
      "RMS error: 460.80\n",
      "Coefficient of determination: 1.00\n"
     ]
    }
   ],
   "source": [
    "regr_model = linear_regression(data_X_df, data_y_df)"
   ]
  },
  {
   "cell_type": "code",
   "execution_count": null,
   "id": "53287b18-3bf3-4377-8907-9e1be096cd68",
   "metadata": {},
   "outputs": [],
   "source": []
  },
  {
   "cell_type": "code",
   "execution_count": null,
   "id": "7e07210c-84a6-49e7-8b61-aad05141461c",
   "metadata": {},
   "outputs": [],
   "source": []
  },
  {
   "cell_type": "code",
   "execution_count": null,
   "id": "0e26e16e-fea4-4ddd-b347-1b055de23356",
   "metadata": {},
   "outputs": [],
   "source": []
  },
  {
   "cell_type": "code",
   "execution_count": null,
   "id": "4052fe16-3eaa-49c1-8954-317d7424f3f4",
   "metadata": {},
   "outputs": [],
   "source": []
  },
  {
   "cell_type": "code",
   "execution_count": null,
   "id": "de31393e-52f6-4701-b623-6263e5214f33",
   "metadata": {},
   "outputs": [],
   "source": []
  },
  {
   "cell_type": "code",
   "execution_count": null,
   "id": "18718f47-75c5-4434-b283-3697616dc20a",
   "metadata": {},
   "outputs": [],
   "source": []
  },
  {
   "cell_type": "code",
   "execution_count": null,
   "id": "37cbd273-7df3-4ba8-8e2a-c51bfc8b6a33",
   "metadata": {},
   "outputs": [],
   "source": []
  },
  {
   "cell_type": "code",
   "execution_count": null,
   "id": "6e25cc54-c7f1-4f33-ad55-e999fb213d17",
   "metadata": {},
   "outputs": [],
   "source": []
  },
  {
   "cell_type": "code",
   "execution_count": null,
   "id": "187247b9-e6c5-44e5-9cb2-e15b230406a4",
   "metadata": {},
   "outputs": [],
   "source": []
  },
  {
   "cell_type": "code",
   "execution_count": null,
   "id": "df58c4cb-c435-4f44-8335-a9a4ecbf5903",
   "metadata": {},
   "outputs": [],
   "source": []
  },
  {
   "cell_type": "code",
   "execution_count": null,
   "id": "70e6b967-fbaa-4837-94a9-c4fe87620f91",
   "metadata": {},
   "outputs": [],
   "source": []
  },
  {
   "cell_type": "code",
   "execution_count": null,
   "id": "fb01a376-b68d-4db6-9ede-7aec8ef93b80",
   "metadata": {},
   "outputs": [],
   "source": []
  },
  {
   "cell_type": "code",
   "execution_count": null,
   "id": "14f83dbf-685a-4125-8f44-f84251f2e9c7",
   "metadata": {},
   "outputs": [],
   "source": []
  },
  {
   "cell_type": "code",
   "execution_count": null,
   "id": "9f80f3c9-5594-4bd1-8026-2e0a72c8bba0",
   "metadata": {},
   "outputs": [],
   "source": []
  },
  {
   "cell_type": "code",
   "execution_count": null,
   "id": "c0dd7d28-888f-4bd2-b2df-6b2679a07e63",
   "metadata": {},
   "outputs": [],
   "source": []
  },
  {
   "cell_type": "code",
   "execution_count": null,
   "id": "ada3e362-afc3-4763-a598-c26f43d1874e",
   "metadata": {},
   "outputs": [],
   "source": []
  },
  {
   "cell_type": "code",
   "execution_count": null,
   "id": "cc1e3966-d957-405a-b7cc-eb2a09a8c368",
   "metadata": {},
   "outputs": [],
   "source": []
  },
  {
   "cell_type": "code",
   "execution_count": null,
   "id": "058de7f5-fe4b-4aa5-a06e-d3c46bd8aa65",
   "metadata": {},
   "outputs": [],
   "source": []
  },
  {
   "cell_type": "code",
   "execution_count": null,
   "id": "20529f06-b86b-4153-83d5-b26b4b743782",
   "metadata": {},
   "outputs": [],
   "source": []
  },
  {
   "cell_type": "code",
   "execution_count": null,
   "id": "bfb110fe-5951-4aa2-b1f1-9de390b9128e",
   "metadata": {},
   "outputs": [],
   "source": []
  },
  {
   "cell_type": "code",
   "execution_count": null,
   "id": "667d782a-df16-45b6-898b-4eded076121b",
   "metadata": {},
   "outputs": [],
   "source": []
  },
  {
   "cell_type": "code",
   "execution_count": null,
   "id": "f5da9cb2-fd54-4c97-8cef-9e1bf230f4c2",
   "metadata": {},
   "outputs": [],
   "source": []
  },
  {
   "cell_type": "code",
   "execution_count": null,
   "id": "d6fb96b0-3feb-4647-b344-de32f54d4ee3",
   "metadata": {},
   "outputs": [],
   "source": []
  },
  {
   "cell_type": "code",
   "execution_count": null,
   "id": "5ad2a6c2-14e4-49d1-843a-ef7a0af1e88f",
   "metadata": {},
   "outputs": [],
   "source": []
  },
  {
   "cell_type": "code",
   "execution_count": null,
   "id": "02272646-de7f-4943-b8ed-fa11560e3336",
   "metadata": {},
   "outputs": [],
   "source": []
  },
  {
   "cell_type": "markdown",
   "id": "d253d0b2-5039-4dd4-8dac-91d7393d70a0",
   "metadata": {},
   "source": [
    "## All FDA Strategies together"
   ]
  },
  {
   "cell_type": "code",
   "execution_count": 51,
   "id": "691718ad-991a-41a8-8de4-adc411fe7ec2",
   "metadata": {
    "tags": []
   },
   "outputs": [],
   "source": [
    "data_X_df = pd.DataFrame(\n",
    "    {\n",
    "        'train_computation_cost': df['total_fda_steps'] * df['num_weights'] * df['batch_size'],\n",
    "        'dataset_computation_cost': df['total_fda_steps'] * df['sample_size'],\n",
    "        'local_state_computation_cost': df['local_state_computation_cost'],\n",
    "        \n",
    "        'sync_communication_cost': df['total_rounds'] * df['num_weights'] * np.log2(df['num_clients']),\n",
    "        'monitor_communication_cost': df['total_fda_steps'] * df['monitoring_size'] * np.log2(df['num_clients'])\n",
    "    }\n",
    ")\n",
    "\n",
    "data_y_df = df['total_time']"
   ]
  },
  {
   "cell_type": "code",
   "execution_count": 52,
   "id": "6f105429-ea0e-4c00-97dc-9d62409dafc9",
   "metadata": {
    "tags": []
   },
   "outputs": [
    {
     "name": "stdout",
     "output_type": "stream",
     "text": [
      "Linear Regression\n",
      "Coefficients: [1.49770362e-09 1.54578559e-04 2.34288908e-08 7.23417476e-08\n",
      " 2.08852528e-05]\n",
      "\n",
      "Linear Regression\n",
      "RMS error: 558.08\n",
      "Coefficient of determination: 0.99\n"
     ]
    }
   ],
   "source": [
    "regr_model = linear_regression(data_X_df, data_y_df)"
   ]
  },
  {
   "cell_type": "code",
   "execution_count": null,
   "id": "3b1d3ec6-8c2e-4899-a3c6-dd3efb9a46b7",
   "metadata": {},
   "outputs": [],
   "source": []
  },
  {
   "cell_type": "code",
   "execution_count": null,
   "id": "93088d20-6b27-4976-86f5-8d66f1efc32c",
   "metadata": {},
   "outputs": [],
   "source": []
  },
  {
   "cell_type": "code",
   "execution_count": null,
   "id": "1113e57a-8b70-4244-bd41-cd5c28370943",
   "metadata": {},
   "outputs": [],
   "source": []
  },
  {
   "cell_type": "code",
   "execution_count": 46,
   "id": "87eeed20-bb24-4aca-b5b5-d173abfb3347",
   "metadata": {
    "tags": []
   },
   "outputs": [
    {
     "name": "stdout",
     "output_type": "stream",
     "text": [
      "Linear Regression\n",
      "Coefficients: [1.50353396e-09 1.63845132e-04 7.49103166e-08]\n",
      "\n",
      "Linear Regression\n",
      "RMS error: 700.58\n",
      "Coefficient of determination: 0.99\n"
     ]
    }
   ],
   "source": [
    "regr_model = linear_regression(data_X_df, data_y_df)"
   ]
  },
  {
   "cell_type": "code",
   "execution_count": null,
   "id": "4049ae91-4a9b-4675-90b7-6162a11974c6",
   "metadata": {},
   "outputs": [],
   "source": []
  },
  {
   "cell_type": "code",
   "execution_count": null,
   "id": "11b5b0de-2d7e-4e48-957c-d9b0ebf4cf9d",
   "metadata": {},
   "outputs": [],
   "source": [
    "[1.33928903e-09 1.55690658e-04 1.90845646e-07]"
   ]
  },
  {
   "cell_type": "code",
   "execution_count": null,
   "id": "f9b83f25-6702-42d4-81db-e30fda88754f",
   "metadata": {},
   "outputs": [],
   "source": []
  },
  {
   "cell_type": "code",
   "execution_count": 377,
   "id": "94e46843-3174-4b1a-9c34-8192ef0154b5",
   "metadata": {
    "tags": []
   },
   "outputs": [],
   "source": [
    "import pickle"
   ]
  },
  {
   "cell_type": "code",
   "execution_count": 378,
   "id": "de9de402-1a0c-46e2-bd39-80fa68ae5a26",
   "metadata": {
    "tags": []
   },
   "outputs": [],
   "source": [
    "with open('regression_model.pkl','wb') as f:\n",
    "    pickle.dump(regr_model, f)"
   ]
  },
  {
   "cell_type": "code",
   "execution_count": null,
   "id": "d40fd9e0-991d-4ac8-907a-4d7d80932992",
   "metadata": {},
   "outputs": [],
   "source": []
  }
 ],
 "metadata": {
  "kernelspec": {
   "display_name": "Python [conda env:data-analysis]",
   "language": "python",
   "name": "conda-env-data-analysis-py"
  },
  "language_info": {
   "codemirror_mode": {
    "name": "ipython",
    "version": 3
   },
   "file_extension": ".py",
   "mimetype": "text/x-python",
   "name": "python",
   "nbconvert_exporter": "python",
   "pygments_lexer": "ipython3",
   "version": "3.11.4"
  }
 },
 "nbformat": 4,
 "nbformat_minor": 5
}
